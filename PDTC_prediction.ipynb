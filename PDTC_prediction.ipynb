{
 "cells": [
  {
   "cell_type": "code",
   "execution_count": null,
   "id": "4dc1b323",
   "metadata": {},
   "outputs": [],
   "source": [
    "import os\n",
    "import sys\n",
    "import pandas as pd\n",
    "import numpy as np\n",
    "from sklearn import preprocessing\n",
    "import tensorflow as tf\n",
    "import random\n",
    "import matplotlib\n",
    "from matplotlib import pyplot as plt\n",
    "import statistics\n",
    "from pandas import DataFrame\n",
    "from datetime import datetime\n",
    "from tensorflow import keras\n",
    "from tensorflow.keras import layers\n",
    "from tensorflow.python.keras.models import Sequential,Input,Model\n",
    "from tensorflow.python.keras.layers import Dense, Dropout, Reshape, Flatten, Activation\n",
    "from tensorflow.python.keras.layers import Conv1D, MaxPooling1D, AveragePooling1D, GlobalAveragePooling1D\n",
    "from tensorflow.python.keras.layers import Conv2D, MaxPooling2D, Concatenate\n",
    "#from tensorflow.python.keras.layers import BatchNormalization\n",
    "from tensorflow.python.keras.layers.advanced_activations import LeakyReLU\n",
    "from tensorflow.keras.optimizers import Adam, RMSprop\n",
    "#from keras import backend as K\n",
    "import tensorflow.keras.backend as K\n",
    "from tensorflow.keras.callbacks import ModelCheckpoint, CSVLogger, Callback\n",
    "from tensorflow.compat.v1.keras.backend import set_session\n",
    "from os.path import basename\n",
    "#import seaborn as sns\n",
    "from tensorflow.python.keras.models import load_model \n",
    "from tensorflow.python.keras.utils.vis_utils import plot_model\n",
    "from sklearn.metrics import r2_score\n",
    "from sklearn.metrics import mean_squared_error\n",
    "from matplotlib.patches import Patch\n",
    "from matplotlib.lines import Line2D\n",
    "from scipy.stats import pearsonr"
   ]
  },
  {
   "cell_type": "code",
   "execution_count": null,
   "id": "d59b4c2a",
   "metadata": {},
   "outputs": [],
   "source": [
    "tf.__version__"
   ]
  },
  {
   "cell_type": "code",
   "execution_count": null,
   "id": "b937c918",
   "metadata": {},
   "outputs": [],
   "source": [
    "'server'"
   ]
  },
  {
   "cell_type": "markdown",
   "id": "4ab08588",
   "metadata": {},
   "source": [
    "## GPU check"
   ]
  },
  {
   "cell_type": "code",
   "execution_count": null,
   "id": "3c41d70e",
   "metadata": {
    "scrolled": true
   },
   "outputs": [],
   "source": [
    "from tensorflow.python.client import device_lib\n",
    "print(device_lib.list_local_devices())"
   ]
  },
  {
   "cell_type": "code",
   "execution_count": null,
   "id": "ae5e4480",
   "metadata": {},
   "outputs": [],
   "source": [
    "# gpus = tf.config.list_physical_devices('GPU')\n",
    "# for i in range(len(gpus)):\n",
    "#     tf.config.experimental.set_memory_growth(gpus[i], True)"
   ]
  },
  {
   "cell_type": "code",
   "execution_count": null,
   "id": "f7738ba3",
   "metadata": {},
   "outputs": [],
   "source": [
    "os.getcwd()"
   ]
  },
  {
   "cell_type": "markdown",
   "id": "72136bdd",
   "metadata": {},
   "source": [
    "## Load input file"
   ]
  },
  {
   "cell_type": "code",
   "execution_count": null,
   "id": "d9f17aa1",
   "metadata": {},
   "outputs": [],
   "source": [
    "x_test = np.load('./path/test_x_file') # Enter the path to your file, file shape must be in the form (n, 512, 512, 3)\n",
    "y_test = np.load('./path/test_y_file') # Enter the path to your file, file shape must be in the form (n, )"
   ]
  },
  {
   "cell_type": "code",
   "execution_count": null,
   "id": "1a2fa4d0",
   "metadata": {
    "scrolled": true
   },
   "outputs": [],
   "source": [
    "with tf.device('/GPU:0'):\n",
    "    options = tf.data.Options()\n",
    "    options.experimental_distribute.auto_shard_policy = tf.data.experimental.AutoShardPolicy.OFF"
   ]
  },
  {
   "cell_type": "code",
   "execution_count": null,
   "id": "b4261e36",
   "metadata": {
    "scrolled": true
   },
   "outputs": [],
   "source": [
    "batch_size = 32 # Assign your desired batch size to the batch_size variable. Default is 32\n",
    "with tf.device('/GPU:0'): # If you have a GPU and more than one, enter the GPU number to use \n",
    "    test_data = tf.data.Dataset.from_tensor_slices(x_test)\n",
    "    test_data = test_data.batch(batch_size) \n",
    "    test_data = test_data.with_options(options)"
   ]
  },
  {
   "cell_type": "markdown",
   "id": "677d31f3",
   "metadata": {},
   "source": [
    "## Load model and prediction"
   ]
  },
  {
   "cell_type": "code",
   "execution_count": null,
   "id": "28b12a53",
   "metadata": {},
   "outputs": [],
   "source": [
    "os.getcwd()"
   ]
  },
  {
   "cell_type": "code",
   "execution_count": null,
   "id": "e7461d83",
   "metadata": {},
   "outputs": [],
   "source": [
    "model = load_model('./path/characteristics_model.h5')\n",
    "# Set the path to the model with the desired characteristics\n",
    "# If you want the saved model, contact us"
   ]
  },
  {
   "cell_type": "code",
   "execution_count": null,
   "id": "4f43070c",
   "metadata": {
    "scrolled": true
   },
   "outputs": [],
   "source": [
    "predict = model.predict(test_data, verbose = 1)"
   ]
  },
  {
   "cell_type": "code",
   "execution_count": null,
   "id": "eee03658",
   "metadata": {},
   "outputs": [],
   "source": [
    "predict.shape, y_test.shape"
   ]
  },
  {
   "cell_type": "code",
   "execution_count": null,
   "id": "172f71fc",
   "metadata": {},
   "outputs": [],
   "source": [
    "predict"
   ]
  },
  {
   "cell_type": "code",
   "execution_count": null,
   "id": "4e489856",
   "metadata": {},
   "outputs": [],
   "source": [
    "y_test"
   ]
  },
  {
   "cell_type": "code",
   "execution_count": null,
   "id": "8ea2b441",
   "metadata": {},
   "outputs": [],
   "source": [
    "predict_test_reshape = np.reshape(predict,('row_in_your_data',)) "
   ]
  },
  {
   "cell_type": "code",
   "execution_count": null,
   "id": "1e5a2698",
   "metadata": {},
   "outputs": [],
   "source": [
    "predict_test_reshape.shape"
   ]
  },
  {
   "cell_type": "code",
   "execution_count": null,
   "id": "463b5df6",
   "metadata": {},
   "outputs": [],
   "source": [
    "predict_test_reshape"
   ]
  },
  {
   "cell_type": "code",
   "execution_count": null,
   "id": "da11df16",
   "metadata": {},
   "outputs": [],
   "source": [
    "predict_test_reshape = np.round(predict_test_reshape,0)"
   ]
  },
  {
   "cell_type": "code",
   "execution_count": null,
   "id": "26e98bbc",
   "metadata": {},
   "outputs": [],
   "source": [
    "predict_train_reshape, predict_valid_reshape, predict_test_reshape"
   ]
  },
  {
   "cell_type": "code",
   "execution_count": null,
   "id": "ea606862",
   "metadata": {},
   "outputs": [],
   "source": [
    "predict_test_reshape = predict_test_reshape.astype('uint8')"
   ]
  },
  {
   "cell_type": "code",
   "execution_count": null,
   "id": "d9668d16",
   "metadata": {},
   "outputs": [],
   "source": [
    "predict_test_reshape"
   ]
  },
  {
   "cell_type": "code",
   "execution_count": null,
   "id": "23cf3467",
   "metadata": {},
   "outputs": [],
   "source": [
    "from sklearn.metrics import classification_report, confusion_matrix, roc_curve, auc, plot_roc_curve, roc_auc_score"
   ]
  },
  {
   "cell_type": "code",
   "execution_count": null,
   "id": "d78ffd03",
   "metadata": {},
   "outputs": [],
   "source": [
    "target_names = [\"Class {}\".format(i) for i in range(2)]\n",
    "print(classification_report(y_test, predict_test_reshape, target_names=target_names))"
   ]
  },
  {
   "cell_type": "code",
   "execution_count": null,
   "id": "2b7ad5b2",
   "metadata": {},
   "outputs": [],
   "source": [
    "confusion_matrix(y_test, predict_test_reshape, labels=[0,1])"
   ]
  },
  {
   "cell_type": "code",
   "execution_count": null,
   "id": "3fbf6ad0",
   "metadata": {},
   "outputs": [],
   "source": [
    "y_test_reshape = np.reshape(y_test,('row_in_your_data',1))"
   ]
  },
  {
   "cell_type": "code",
   "execution_count": null,
   "id": "20181b4e",
   "metadata": {},
   "outputs": [],
   "source": [
    "\n",
    "# Compute ROC curve and ROC area for each class\n",
    "test_fpr = dict()\n",
    "test_tpr = dict()\n",
    "test_roc_auc = dict()\n",
    "test_ll = dict()\n",
    "\n",
    "for i in range(2):\n",
    "    test_fpr[i], test_tpr[i], test_ll[i] = roc_curve(y_test, predict_test_reshape)\n",
    "    test_roc_auc[i] = auc(test_fpr[i], test_tpr[i])\n",
    "\n",
    "    # Compute micro-average ROC curve and ROC area\n",
    "test_fpr[\"micro\"], test_tpr[\"micro\"], _ = roc_curve(y_test, predict_test_reshape)\n",
    "test_roc_auc[\"micro\"] = auc(test_fpr[\"micro\"], test_tpr[\"micro\"])"
   ]
  },
  {
   "cell_type": "code",
   "execution_count": null,
   "id": "3a9db139",
   "metadata": {},
   "outputs": [],
   "source": [
    "def plot_roc_curve(l_fper, l_tper, ):\n",
    "    plt.plot(l_fper,l_tper , color='red', label='ROC')\n",
    "    plt.plot([0, 1], [0, 1], color='green', linestyle='--')\n",
    "    plt.xlabel('False Positive Rate')\n",
    "    plt.ylabel('True Positive Rate')\n",
    "    plt.title('Receiver Operating Characteristic Curve')\n",
    "    plt.legend()\n",
    "    plt.show()"
   ]
  },
  {
   "cell_type": "code",
   "execution_count": null,
   "id": "aeb2eacb",
   "metadata": {},
   "outputs": [],
   "source": [
    "predict_test_prob_reshape = np.reshape(predict, ('row_in_your_data',1))"
   ]
  },
  {
   "cell_type": "code",
   "execution_count": null,
   "id": "6495fd8d",
   "metadata": {},
   "outputs": [],
   "source": [
    "test_auc_score = roc_auc_score(y_test, predict_test_prob_reshape)\n",
    "test_auc_score"
   ]
  },
  {
   "cell_type": "code",
   "execution_count": null,
   "id": "9e4f5bfe",
   "metadata": {},
   "outputs": [],
   "source": [
    "test_fper, test_tper, test_thresholds = roc_curve(y_test, predict_test_prob_reshape)"
   ]
  },
  {
   "cell_type": "code",
   "execution_count": null,
   "id": "7481982c",
   "metadata": {},
   "outputs": [],
   "source": [
    "plot_roc_curve(test_fper, test_tper)"
   ]
  }
 ],
 "metadata": {
  "kernelspec": {
   "display_name": "Python 3",
   "language": "python",
   "name": "python3"
  },
  "language_info": {
   "codemirror_mode": {
    "name": "ipython",
    "version": 3
   },
   "file_extension": ".py",
   "mimetype": "text/x-python",
   "name": "python",
   "nbconvert_exporter": "python",
   "pygments_lexer": "ipython3",
   "version": "3.7.2"
  }
 },
 "nbformat": 4,
 "nbformat_minor": 5
}
